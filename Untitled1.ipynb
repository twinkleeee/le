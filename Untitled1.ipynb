{
  "nbformat": 4,
  "nbformat_minor": 0,
  "metadata": {
    "colab": {
      "name": "Untitled1.ipynb",
      "provenance": [],
      "authorship_tag": "ABX9TyMCuxbZFgfgN3qllH+1JTv3",
      "include_colab_link": true
    },
    "kernelspec": {
      "name": "python3",
      "display_name": "Python 3"
    }
  },
  "cells": [
    {
      "cell_type": "markdown",
      "metadata": {
        "id": "view-in-github",
        "colab_type": "text"
      },
      "source": [
        "<a href=\"https://colab.research.google.com/github/twinkleeee/le/blob/master/Untitled1.ipynb\" target=\"_parent\"><img src=\"https://colab.research.google.com/assets/colab-badge.svg\" alt=\"Open In Colab\"/></a>"
      ]
    },
    {
      "cell_type": "code",
      "metadata": {
        "id": "AufJh5nyWmNF",
        "colab_type": "code",
        "colab": {}
      },
      "source": [
        "!cd /content/drive/My\\ Drive"
      ],
      "execution_count": 0,
      "outputs": []
    },
    {
      "cell_type": "code",
      "metadata": {
        "id": "KKoK3d6ZWrGG",
        "colab_type": "code",
        "colab": {
          "base_uri": "https://localhost:8080/",
          "height": 612
        },
        "outputId": "36e9cb95-7a7c-4187-8c43-c7b8583863ae"
      },
      "source": [
        "!ls /content/drive/My\\ Drive"
      ],
      "execution_count": 18,
      "outputs": [
        {
          "output_type": "stream",
          "text": [
            "'생명의 강'\n",
            "'1 3-1 6 제주 예약사항.gsheet'\n",
            "'한글요약본_광고학_1~7주[1].pdf'\n",
            "'1 Introduction 4.4.14.gdoc'\n",
            " 김은주-초본1.tif\n",
            " 이창용-초본1.tif\n",
            " 이주영초본1.tiff\n",
            "'2020 독학사 교양시험 .gdoc'\n",
            "'2020 명지분교 요리교실 계획.gdoc'\n",
            "'2020 진로 고민.gsheet'\n",
            "'2020 독학사 공고.pdf'\n",
            " 김은주-초본2.tif\n",
            " 이창용-초본2.tif\n",
            " 이주영초본2.tiff\n",
            " 김은주-초본3.tif\n",
            "'5 Heart Forgiveness.gdoc'\n",
            "'한글요약본_광고학_9~14주[1].pdf'\n",
            " codeMap.pdf\n",
            "'Colab Notebooks'\n",
            "'<기도> - 팀 캘러.gdoc'\n",
            "'구글 계정 보안 지침.gdoc'\n",
            "'공부할 수 있는 사이트 정리.gdoc'\n",
            "'파이썬 글자 출력하기.gdraw'\n",
            " 제주도.gmap\n",
            "'제목 없는 스프레드시트.gsheet'\n",
            "'공부 목록.gsheet'\n",
            "'월간 주영.gsite'\n",
            "'마케팅 탈모 민영 .gslides'\n",
            "'Juy lee.gsite'\n",
            "'광고학 교안.pdf'\n",
            "'새로 들어온 멤버를 위해서 할일 순서 process manual for new members 신입 직원 프로세스 매뉴얼.gsheet'\n",
            "'능력치 원s.gdraw'\n",
            " Untitled0.ipynb\n",
            " Untitled1.ipynb\n",
            "'while 문.ipynb'\n"
          ],
          "name": "stdout"
        }
      ]
    },
    {
      "cell_type": "code",
      "metadata": {
        "id": "I340PuCFWw3V",
        "colab_type": "code",
        "colab": {}
      },
      "source": [
        ""
      ],
      "execution_count": 0,
      "outputs": []
    },
    {
      "cell_type": "code",
      "metadata": {
        "id": "Hl1V1DqRW7U5",
        "colab_type": "code",
        "colab": {}
      },
      "source": [
        ""
      ],
      "execution_count": 0,
      "outputs": []
    },
    {
      "cell_type": "code",
      "metadata": {
        "id": "PQod8NUOW7PH",
        "colab_type": "code",
        "colab": {}
      },
      "source": [
        "!"
      ],
      "execution_count": 0,
      "outputs": []
    },
    {
      "cell_type": "code",
      "metadata": {
        "id": "8PA47diRXHVN",
        "colab_type": "code",
        "colab": {}
      },
      "source": [
        ""
      ],
      "execution_count": 0,
      "outputs": []
    },
    {
      "cell_type": "code",
      "metadata": {
        "id": "rLwIChVKXP-J",
        "colab_type": "code",
        "colab": {}
      },
      "source": [
        ""
      ],
      "execution_count": 0,
      "outputs": []
    },
    {
      "cell_type": "code",
      "metadata": {
        "id": "0x40ax65XQtY",
        "colab_type": "code",
        "colab": {}
      },
      "source": [
        ""
      ],
      "execution_count": 0,
      "outputs": []
    },
    {
      "cell_type": "code",
      "metadata": {
        "id": "YXbgvxW8XVKg",
        "colab_type": "code",
        "colab": {}
      },
      "source": [
        ""
      ],
      "execution_count": 0,
      "outputs": []
    },
    {
      "cell_type": "code",
      "metadata": {
        "id": "5BhMg73uXWit",
        "colab_type": "code",
        "colab": {}
      },
      "source": [
        ""
      ],
      "execution_count": 0,
      "outputs": []
    },
    {
      "cell_type": "code",
      "metadata": {
        "id": "yVHY7HnsXdnd",
        "colab_type": "code",
        "colab": {}
      },
      "source": [
        ""
      ],
      "execution_count": 0,
      "outputs": []
    }
  ]
}